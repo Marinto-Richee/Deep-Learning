{
  "cells": [
    {
      "cell_type": "code",
      "execution_count": 18,
      "metadata": {
        "id": "Q4Dc4L-1qokz"
      },
      "outputs": [],
      "source": [
        "from tensorflow import keras\n",
        "from tensorflow.keras import Sequential\n",
        "from tensorflow.keras.datasets import mnist\n",
        "from tensorflow.keras import layers\n",
        "from tensorflow.keras.layers import Conv2D, Dense"
      ]
    },
    {
      "cell_type": "code",
      "execution_count": 19,
      "metadata": {
        "id": "UUICGA9S7iRt"
      },
      "outputs": [],
      "source": [
        "(X_train,y_train),(X_test,y_test)=mnist.load_data()"
      ]
    },
    {
      "cell_type": "code",
      "execution_count": 20,
      "metadata": {
        "colab": {
          "base_uri": "https://localhost:8080/",
          "height": 248
        },
        "id": "uZYOMfX1AGJu",
        "outputId": "1db249a8-3fff-4cd0-87b9-b72778360f12"
      },
      "outputs": [
        {
          "output_type": "display_data",
          "data": {
            "text/plain": [
              "<Figure size 432x288 with 1 Axes>"
            ],
            "image/png": "[encoded data removed]"
          },
          "metadata": {
            "needs_background": "light"
          }
        }
      ],
      "source": [
        "import matplotlib.pyplot as plt\n",
        "import random\n",
        "num=random.randint(0,X_train.shape[0])\n",
        "plt.axis(\"off\")\n",
        "plt.imshow(X_train[num],cmap=\"gray\")\n",
        "plt.show()"
      ]
    },
    {
      "cell_type": "code",
      "execution_count": 21,
      "metadata": {
        "colab": {
          "base_uri": "https://localhost:8080/"
        },
        "id": "tgpVd0saAx8L",
        "outputId": "bd8b1127-f0e2-4abe-9e60-1a0fc2024749"
      },
      "outputs": [
        {
          "output_type": "stream",
          "name": "stdout",
          "text": [
            "Highest Value before normalization: 255\n",
            "Highest Value after normalization: 1.0\n"
          ]
        }
      ],
      "source": [
        "print(\"Highest Value before normalization: \"+str(X_test.max()))\n",
        "X_test_scaled=X_test/255.0\n",
        "X_train_scaled=X_train/255.0\n",
        "print(\"Highest Value after normalization: \"+str(X_test_scaled.max()))"
      ]
    },
    {
      "cell_type": "code",
      "execution_count": 22,
      "metadata": {
        "id": "npvtPoqTHZ4X"
      },
      "outputs": [],
      "source": [
        "X_test_scaled=X_test_scaled.reshape(-1,28,28,1)\n",
        "X_train_scaled=X_train_scaled.reshape(-1,28,28,1)"
      ]
    },
    {
      "cell_type": "code",
      "execution_count": 23,
      "metadata": {
        "id": "jyDv8FnMCTy9"
      },
      "outputs": [],
      "source": [
        "from sklearn.preprocessing import LabelBinarizer\n",
        "y_test_1_encode = LabelBinarizer().fit_transform(y_test)\n",
        "y_train_1_encode = LabelBinarizer().fit_transform(y_train)"
      ]
    },
    {
      "cell_type": "code",
      "execution_count": 24,
      "metadata": {
        "colab": {
          "base_uri": "https://localhost:8080/"
        },
        "id": "gzv6IB4fEgmw",
        "outputId": "174d1310-d137-4560-9ac9-b49471e2e60b"
      },
      "outputs": [
        {
          "output_type": "stream",
          "name": "stdout",
          "text": [
            "The value before One-Hot Encoding is 9\n",
            "Arfter applying One-Hot Encoding is [0 0 0 0 0 0 0 0 0 1]\n"
          ]
        }
      ],
      "source": [
        "test_num=random.randint(0,y_test.shape[0])\n",
        "print(\"The value before One-Hot Encoding is \"+str(y_test[test_num])+\"\\nArfter applying One-Hot Encoding is \"+str(y_test_1_encode[test_num]))"
      ]
    },
    {
      "cell_type": "code",
      "execution_count": 25,
      "metadata": {
        "id": "n5YEqWoOFVFT"
      },
      "outputs": [],
      "source": [
        "model=Sequential()\n",
        "model.add(layers.Input(shape=(28,28,1)))\n",
        "model.add(Conv2D(32,kernel_size=(3,3),activation='relu'))\n",
        "model.add(layers.MaxPool2D())\n",
        "model.add(layers.Flatten())\n",
        "model.add(Dense(16,activation='tanh'))\n",
        "model.add(Dense(10,activation='softmax'))\n",
        "model.compile(optimizer=\"adam\",loss=\"categorical_crossentropy\",metrics=\"accuracy\")"
      ]
    },
    {
      "cell_type": "code",
      "execution_count": 26,
      "metadata": {
        "colab": {
          "base_uri": "https://localhost:8080/"
        },
        "id": "6rQyAtChHEyh",
        "outputId": "5591a207-3895-4043-f882-be233e2bce96"
      },
      "outputs": [
        {
          "output_type": "stream",
          "name": "stdout",
          "text": [
            "Epoch 1/10\n",
            "469/469 - 2s - loss: 0.4374 - accuracy: 0.9030 - val_loss: 0.1772 - val_accuracy: 0.9582 - 2s/epoch - 5ms/step\n",
            "Epoch 2/10\n",
            "469/469 - 2s - loss: 0.1285 - accuracy: 0.9699 - val_loss: 0.1010 - val_accuracy: 0.9737 - 2s/epoch - 3ms/step\n",
            "Epoch 3/10\n",
            "469/469 - 2s - loss: 0.0838 - accuracy: 0.9794 - val_loss: 0.0745 - val_accuracy: 0.9794 - 2s/epoch - 4ms/step\n",
            "Epoch 4/10\n",
            "469/469 - 2s - loss: 0.0646 - accuracy: 0.9839 - val_loss: 0.0793 - val_accuracy: 0.9759 - 2s/epoch - 4ms/step\n"
          ]
        },
        {
          "output_type": "execute_result",
          "data": {
            "text/plain": [
              "<keras.callbacks.History at 0x7f0fe2c5bd50>"
            ]
          },
          "metadata": {},
          "execution_count": 26
        }
      ],
      "source": [
        "from tensorflow.keras.callbacks import EarlyStopping\n",
        "early_stop = EarlyStopping(monitor='val_accuracy', patience=0.5)\n",
        "model.fit(X_train_scaled,y_train_1_encode,128,10,validation_data=(X_test_scaled,y_test_1_encode),callbacks=[early_stop],verbose=2)\n",
        "#model.fit(X_train_scaled,y_train_1_encode,128,10,validation_data=(X_test_scaled,y_test_1_encode),verbose=2)"
      ]
    },
    {
      "cell_type": "code",
      "execution_count": 27,
      "metadata": {
        "id": "byIurcPuMhhJ"
      },
      "outputs": [],
      "source": []
    },
    {
      "cell_type": "code",
      "execution_count": 28,
      "metadata": {
        "colab": {
          "base_uri": "https://localhost:8080/",
          "height": 336
        },
        "id": "8CMVVJU7QRLS",
        "outputId": "a83e3d02-8fcc-41ee-8fbe-78248534d3e9"
      },
      "outputs": [
        {
          "output_type": "display_data",
          "data": {
            "text/plain": [
              "<Figure size 1080x360 with 2 Axes>"
            ],
            "image/png": "[encoded data removed]"
          },
          "metadata": {
            "needs_background": "light"
          }
        }
      ],
      "source": [
        "import matplotlib.pyplot as plt\n",
        "import pandas as pd\n",
        "metrics=pd.DataFrame(model.history.history)\n",
        "plt.figure(figsize=(15, 5))\n",
        "plt.subplot(1,2,1)\n",
        "plt.plot(metrics[['accuracy','val_accuracy']])\n",
        "plt.legend([\"Training Accuracy\",\"Validation Accuracy\"])\n",
        "plt.title(\"Accuracy vs Test Accuracy\")\n",
        "plt.subplot(1,2,2)\n",
        "plt.plot(metrics[['loss','val_loss']])\n",
        "plt.legend([\"Training Loss\",\"Validation Loss\"])\n",
        "plt.title(\"Loss vs Test Loss\")\n",
        "plt.show()"
      ]
    },
    {
      "cell_type": "code",
      "execution_count": 36,
      "metadata": {
        "colab": {
          "base_uri": "https://localhost:8080/",
          "height": 925
        },
        "id": "ggKf1x8ZQg7x",
        "outputId": "35f491e6-4ae7-4210-bde1-913792b52a60"
      },
      "outputs": [
        {
          "output_type": "display_data",
          "data": {
            "text/plain": [
              "     0     1     2    3    4    5    6    7    8    9\n",
              "0  962     0     3    0    0    5    5    1    4    0\n",
              "1    0  1117     1    2    1    0    5    0    9    0\n",
              "2    1     2  1000    6    3    0    0    5   15    0\n",
              "3    0     0     1  990    0    9    0    2    8    0\n",
              "4    1     1     3    0  954    0    3    1    4   15\n",
              "5    1     0     0    2    0  885    2    0    2    0\n",
              "6    4     2     0    0    1   10  938    0    3    0\n",
              "7    0     4    11    5    2    1    0  981    9   15\n",
              "8    3     0     3    1    2    3    0    0  960    2\n",
              "9    3     1     0    3    4   13    1    3    9  972"
            ],
            "text/html": [
              "\n",
              "  <div id=\"df-2f3ea3c3-94c5-4622-a41e-2be3566e551f\">\n",
              "    <div class=\"colab-df-container\">\n",
              "      <div>\n",
              "<style scoped>\n",
              "    .dataframe tbody tr th:only-of-type {\n",
              "        vertical-align: middle;\n",
              "    }\n",
              "\n",
              "    .dataframe tbody tr th {\n",
              "        vertical-align: top;\n",
              "    }\n",
              "\n",
              "    .dataframe thead th {\n",
              "        text-align: right;\n",
              "    }\n",
              "</style>\n",
              "<table border=\"1\" class=\"dataframe\">\n",
              "  <thead>\n",
              "    <tr style=\"text-align: right;\">\n",
              "      <th></th>\n",
              "      <th>0</th>\n",
              "      <th>1</th>\n",
              "      <th>2</th>\n",
              "      <th>3</th>\n",
              "      <th>4</th>\n",
              "      <th>5</th>\n",
              "      <th>6</th>\n",
              "      <th>7</th>\n",
              "      <th>8</th>\n",
              "      <th>9</th>\n",
              "    </tr>\n",
              "  </thead>\n",
              "  <tbody>\n",
              "    <tr>\n",
              "      <th>0</th>\n",
              "      <td>962</td>\n",
              "      <td>0</td>\n",
              "      <td>3</td>\n",
              "      <td>0</td>\n",
              "      <td>0</td>\n",
              "      <td>5</td>\n",
              "      <td>5</td>\n",
              "      <td>1</td>\n",
              "      <td>4</td>\n",
              "      <td>0</td>\n",
              "    </tr>\n",
              "    <tr>\n",
              "      <th>1</th>\n",
              "      <td>0</td>\n",
              "      <td>1117</td>\n",
              "      <td>1</td>\n",
              "      <td>2</td>\n",
              "      <td>1</td>\n",
              "      <td>0</td>\n",
              "      <td>5</td>\n",
              "      <td>0</td>\n",
              "      <td>9</td>\n",
              "      <td>0</td>\n",
              "    </tr>\n",
              "    <tr>\n",
              "      <th>2</th>\n",
              "      <td>1</td>\n",
              "      <td>2</td>\n",
              "      <td>1000</td>\n",
              "      <td>6</td>\n",
              "      <td>3</td>\n",
              "      <td>0</td>\n",
              "      <td>0</td>\n",
              "      <td>5</td>\n",
              "      <td>15</td>\n",
              "      <td>0</td>\n",
              "    </tr>\n",
              "    <tr>\n",
              "      <th>3</th>\n",
              "      <td>0</td>\n",
              "      <td>0</td>\n",
              "      <td>1</td>\n",
              "      <td>990</td>\n",
              "      <td>0</td>\n",
              "      <td>9</td>\n",
              "      <td>0</td>\n",
              "      <td>2</td>\n",
              "      <td>8</td>\n",
              "      <td>0</td>\n",
              "    </tr>\n",
              "    <tr>\n",
              "      <th>4</th>\n",
              "      <td>1</td>\n",
              "      <td>1</td>\n",
              "      <td>3</td>\n",
              "      <td>0</td>\n",
              "      <td>954</td>\n",
              "      <td>0</td>\n",
              "      <td>3</td>\n",
              "      <td>1</td>\n",
              "      <td>4</td>\n",
              "      <td>15</td>\n",
              "    </tr>\n",
              "    <tr>\n",
              "      <th>5</th>\n",
              "      <td>1</td>\n",
              "      <td>0</td>\n",
              "      <td>0</td>\n",
              "      <td>2</td>\n",
              "      <td>0</td>\n",
              "      <td>885</td>\n",
              "      <td>2</td>\n",
              "      <td>0</td>\n",
              "      <td>2</td>\n",
              "      <td>0</td>\n",
              "    </tr>\n",
              "    <tr>\n",
              "      <th>6</th>\n",
              "      <td>4</td>\n",
              "      <td>2</td>\n",
              "      <td>0</td>\n",
              "      <td>0</td>\n",
              "      <td>1</td>\n",
              "      <td>10</td>\n",
              "      <td>938</td>\n",
              "      <td>0</td>\n",
              "      <td>3</td>\n",
              "      <td>0</td>\n",
              "    </tr>\n",
              "    <tr>\n",
              "      <th>7</th>\n",
              "      <td>0</td>\n",
              "      <td>4</td>\n",
              "      <td>11</td>\n",
              "      <td>5</td>\n",
              "      <td>2</td>\n",
              "      <td>1</td>\n",
              "      <td>0</td>\n",
              "      <td>981</td>\n",
              "      <td>9</td>\n",
              "      <td>15</td>\n",
              "    </tr>\n",
              "    <tr>\n",
              "      <th>8</th>\n",
              "      <td>3</td>\n",
              "      <td>0</td>\n",
              "      <td>3</td>\n",
              "      <td>1</td>\n",
              "      <td>2</td>\n",
              "      <td>3</td>\n",
              "      <td>0</td>\n",
              "      <td>0</td>\n",
              "      <td>960</td>\n",
              "      <td>2</td>\n",
              "    </tr>\n",
              "    <tr>\n",
              "      <th>9</th>\n",
              "      <td>3</td>\n",
              "      <td>1</td>\n",
              "      <td>0</td>\n",
              "      <td>3</td>\n",
              "      <td>4</td>\n",
              "      <td>13</td>\n",
              "      <td>1</td>\n",
              "      <td>3</td>\n",
              "      <td>9</td>\n",
              "      <td>972</td>\n",
              "    </tr>\n",
              "  </tbody>\n",
              "</table>\n",
              "</div>\n",
              "      <button class=\"colab-df-convert\" onclick=\"convertToInteractive('df-2f3ea3c3-94c5-4622-a41e-2be3566e551f')\"\n",
              "              title=\"Convert this dataframe to an interactive table.\"\n",
              "              style=\"display:none;\">\n",
              "        \n",
              "  <svg xmlns=\"http://www.w3.org/2000/svg\" height=\"24px\"viewBox=\"0 0 24 24\"\n",
              "       width=\"24px\">\n",
              "    <path d=\"M0 0h24v24H0V0z\" fill=\"none\"/>\n",
              "    <path d=\"M18.56 5.44l.94 2.06.94-2.06 2.06-.94-2.06-.94-.94-2.06-.94 2.06-2.06.94zm-11 1L8.5 8.5l.94-2.06 2.06-.94-2.06-.94L8.5 2.5l-.94 2.06-2.06.94zm10 10l.94 2.06.94-2.06 2.06-.94-2.06-.94-.94-2.06-.94 2.06-2.06.94z\"/><path d=\"M17.41 7.96l-1.37-1.37c-.4-.4-.92-.59-1.43-.59-.52 0-1.04.2-1.43.59L10.3 9.45l-7.72 7.72c-.78.78-.78 2.05 0 2.83L4 21.41c.39.39.9.59 1.41.59.51 0 1.02-.2 1.41-.59l7.78-7.78 2.81-2.81c.8-.78.8-2.07 0-2.86zM5.41 20L4 18.59l7.72-7.72 1.47 1.35L5.41 20z\"/>\n",
              "  </svg>\n",
              "      </button>\n",
              "      \n",
              "  <style>\n",
              "    .colab-df-container {\n",
              "      display:flex;\n",
              "      flex-wrap:wrap;\n",
              "      gap: 12px;\n",
              "    }\n",
              "\n",
              "    .colab-df-convert {\n",
              "      background-color: #E8F0FE;\n",
              "      border: none;\n",
              "      border-radius: 50%;\n",
              "      cursor: pointer;\n",
              "      display: none;\n",
              "      fill: #1967D2;\n",
              "      height: 32px;\n",
              "      padding: 0 0 0 0;\n",
              "      width: 32px;\n",
              "    }\n",
              "\n",
              "    .colab-df-convert:hover {\n",
              "      background-color: #E2EBFA;\n",
              "      box-shadow: 0px 1px 2px rgba(60, 64, 67, 0.3), 0px 1px 3px 1px rgba(60, 64, 67, 0.15);\n",
              "      fill: #174EA6;\n",
              "    }\n",
              "\n",
              "    [theme=dark] .colab-df-convert {\n",
              "      background-color: #3B4455;\n",
              "      fill: #D2E3FC;\n",
              "    }\n",
              "\n",
              "    [theme=dark] .colab-df-convert:hover {\n",
              "      background-color: #434B5C;\n",
              "      box-shadow: 0px 1px 3px 1px rgba(0, 0, 0, 0.15);\n",
              "      filter: drop-shadow(0px 1px 2px rgba(0, 0, 0, 0.3));\n",
              "      fill: #FFFFFF;\n",
              "    }\n",
              "  </style>\n",
              "\n",
              "      <script>\n",
              "        const buttonEl =\n",
              "          document.querySelector('#df-2f3ea3c3-94c5-4622-a41e-2be3566e551f button.colab-df-convert');\n",
              "        buttonEl.style.display =\n",
              "          google.colab.kernel.accessAllowed ? 'block' : 'none';\n",
              "\n",
              "        async function convertToInteractive(key) {\n",
              "          const element = document.querySelector('#df-2f3ea3c3-94c5-4622-a41e-2be3566e551f');\n",
              "          const dataTable =\n",
              "            await google.colab.kernel.invokeFunction('convertToInteractive',\n",
              "                                                     [key], {});\n",
              "          if (!dataTable) return;\n",
              "\n",
              "          const docLinkHtml = 'Like what you see? Visit the ' +\n",
              "            '<a target=\"_blank\" href=https://colab.research.google.com/notebooks/data_table.ipynb>data table notebook</a>'\n",
              "            + ' to learn more about interactive tables.';\n",
              "          element.innerHTML = '';\n",
              "          dataTable['output_type'] = 'display_data';\n",
              "          await google.colab.output.renderOutput(dataTable, element);\n",
              "          const docLink = document.createElement('div');\n",
              "          docLink.innerHTML = docLinkHtml;\n",
              "          element.appendChild(docLink);\n",
              "        }\n",
              "      </script>\n",
              "    </div>\n",
              "  </div>\n",
              "  "
            ]
          },
          "metadata": {}
        },
        {
          "output_type": "stream",
          "name": "stdout",
          "text": [
            "              precision    recall  f1-score   support\n",
            "\n",
            "           0       0.99      0.98      0.98       980\n",
            "           1       0.99      0.98      0.99      1135\n",
            "           2       0.98      0.97      0.97      1032\n",
            "           3       0.98      0.98      0.98      1010\n",
            "           4       0.99      0.97      0.98       982\n",
            "           5       0.96      0.99      0.97       892\n",
            "           6       0.98      0.98      0.98       958\n",
            "           7       0.99      0.95      0.97      1028\n",
            "           8       0.94      0.99      0.96       974\n",
            "           9       0.97      0.96      0.97      1009\n",
            "\n",
            "    accuracy                           0.98     10000\n",
            "   macro avg       0.98      0.98      0.98     10000\n",
            "weighted avg       0.98      0.98      0.98     10000\n",
            "\n"
          ]
        },
        {
          "output_type": "display_data",
          "data": {
            "text/plain": [
              "<Figure size 432x288 with 2 Axes>"
            ],
            "image/png": "[encoded data removed]"
          },
          "metadata": {
            "needs_background": "light"
          }
        }
      ],
      "source": [
        "import numpy as np\n",
        "from sklearn.metrics import confusion_matrix,classification_report\n",
        "from seaborn import heatmap\n",
        "x_test_predictions = np.argmax(model.predict(X_test_scaled), axis=1)\n",
        "y_test_1_encode_=np.argmax(y_test_1_encode,axis=1)\n",
        "display(pd.DataFrame(confusion_matrix(y_test_1_encode_,x_test_predictions)))\n",
        "heatmap(pd.DataFrame(confusion_matrix(y_test_1_encode_,x_test_predictions)))\n",
        "print(classification_report(y_test_1_encode_,x_test_predictions))\n"
      ]
    },
    {
      "cell_type": "code",
      "execution_count": 30,
      "metadata": {
        "colab": {
          "base_uri": "https://localhost:8080/",
          "height": 91
        },
        "id": "3mptINSNuNZ3",
        "outputId": "f6c8af3a-70b0-4ab3-d0e5-744f6394c1ce"
      },
      "outputs": [
        {
          "output_type": "execute_result",
          "data": {
            "text/plain": [
              "\"import tensorflow as tf\\ntf.keras.utils.plot_model(\\n    model,\\n    show_shapes=True,\\n    show_dtype=False,\\n    show_layer_names=True,\\n    rankdir='TB',\\n    expand_nested=False,\\n    dpi=96,\\n    layer_range=None,\\n    show_layer_activations=False\\n)\\nfrom IPython.display import SVG\\nfrom keras.utils.vis_utils import model_to_dot\\n\\nSVG(model_to_dot(model).create(prog='dot', format='svg'))\""
            ],
            "application/vnd.google.colaboratory.intrinsic+json": {
              "type": "string"
            }
          },
          "metadata": {},
          "execution_count": 30
        }
      ],
      "source": [
        "'''import tensorflow as tf\n",
        "tf.keras.utils.plot_model(\n",
        "    model,\n",
        "    show_shapes=True,\n",
        "    show_dtype=False,\n",
        "    show_layer_names=True,\n",
        "    rankdir='TB',\n",
        "    expand_nested=False,\n",
        "    dpi=96,\n",
        "    layer_range=None,\n",
        "    show_layer_activations=False\n",
        ")\n",
        "from IPython.display import SVG\n",
        "from keras.utils.vis_utils import model_to_dot\n",
        "\n",
        "SVG(model_to_dot(model).create(prog='dot', format='svg'))'''"
      ]
    },
    {
      "cell_type": "code",
      "execution_count": 31,
      "metadata": {
        "id": "0PtZFtcEkXBX"
      },
      "outputs": [],
      "source": []
    },
    {
      "cell_type": "code",
      "execution_count": 32,
      "metadata": {
        "id": "DsP5Q3zuo7Jm",
        "colab": {
          "base_uri": "https://localhost:8080/",
          "height": 869
        },
        "outputId": "0401395b-a398-4402-e02e-78d9a7bd922c"
      },
      "outputs": [
        {
          "output_type": "display_data",
          "data": {
            "text/plain": [
              "<Figure size 432x288 with 1 Axes>"
            ],
            "image/png": "[encoded data removed]"
          },
          "metadata": {
            "needs_background": "light"
          }
        },
        {
          "output_type": "stream",
          "name": "stdout",
          "text": [
            "\n",
            "\n"
          ]
        },
        {
          "output_type": "display_data",
          "data": {
            "text/plain": [
              "<Figure size 432x288 with 1 Axes>"
            ],
            "image/png": "[encoded data removed]"
          },
          "metadata": {
            "needs_background": "light"
          }
        },
        {
          "output_type": "stream",
          "name": "stdout",
          "text": [
            "\n",
            "\n"
          ]
        },
        {
          "output_type": "display_data",
          "data": {
            "text/plain": [
              "<Figure size 432x288 with 1 Axes>"
            ],
            "image/png": "[encoded data removed]"
          },
          "metadata": {
            "needs_background": "light"
          }
        },
        {
          "output_type": "stream",
          "name": "stdout",
          "text": [
            "\n",
            "\n"
          ]
        }
      ],
      "source": [
        "from tensorflow.keras.preprocessing import image\n",
        "import tensorflow as tf\n",
        "import numpy as np\n",
        "img_2_ = image.load_img('/content/2.png')\n",
        "img_3_ = image.load_img('/content/3.png')\n",
        "img_5_ = image.load_img('/content/5.png')\n",
        "lst_img_=[img_2_,img_3_,img_5_]\n",
        "for j in lst_img_:\n",
        "  img  = tf.convert_to_tensor(np.asarray(j))\n",
        "  img = tf.image.resize(img,(28,28))\n",
        "  img = tf.image.rgb_to_grayscale(img)\n",
        "  img = img.numpy()/255.0\n",
        "  plt.axis(\"off\")\n",
        "  plt.imshow(img.reshape(28,28),cmap=\"gray\")\n",
        "  x_single_prediction = np.argmax(\n",
        "      model.predict(img.reshape(1,28,28,1)),\n",
        "      axis=1)\n",
        "  plt.title(\"The Prediction is \"+str(x_single_prediction))\n",
        "  plt.show()\n",
        "  print(\"\\n\")"
      ]
    },
    {
      "cell_type": "code",
      "execution_count": 34,
      "metadata": {
        "id": "jxKikDDxYt0g",
        "colab": {
          "base_uri": "https://localhost:8080/",
          "height": 869
        },
        "outputId": "23be5aa5-ad5d-49a1-efdd-203a155f3649"
      },
      "outputs": [
        {
          "output_type": "display_data",
          "data": {
            "text/plain": [
              "<Figure size 432x288 with 1 Axes>"
            ],
            "image/png": "[encoded data removed]"
          },
          "metadata": {
            "needs_background": "light"
          }
        },
        {
          "output_type": "stream",
          "name": "stdout",
          "text": [
            "\n",
            "\n"
          ]
        },
        {
          "output_type": "display_data",
          "data": {
            "text/plain": [
              "<Figure size 432x288 with 1 Axes>"
            ],
            "image/png": "[encoded data removed]"
          },
          "metadata": {
            "needs_background": "light"
          }
        },
        {
          "output_type": "stream",
          "name": "stdout",
          "text": [
            "\n",
            "\n"
          ]
        },
        {
          "output_type": "display_data",
          "data": {
            "text/plain": [
              "<Figure size 432x288 with 1 Axes>"
            ],
            "image/png": "[encoded data removed]"
          },
          "metadata": {
            "needs_background": "light"
          }
        },
        {
          "output_type": "stream",
          "name": "stdout",
          "text": [
            "\n",
            "\n"
          ]
        }
      ],
      "source": [
        "import cv2\n",
        "kernel=np.ones((20,20),np.uint8)\n",
        "for j in lst_img_:\n",
        "  img  = tf.convert_to_tensor(np.asarray(j))\n",
        "  img =cv2.dilate(np.array(img),kernel)\n",
        "  img = tf.image.resize(img,(28,28))\n",
        "  img = tf.image.rgb_to_grayscale(img)\n",
        "  img = img.numpy()/255.0\n",
        "  plt.axis(\"off\")\n",
        "  plt.imshow(img.reshape(28,28),cmap=\"gray\")\n",
        "  x_single_prediction = np.argmax(\n",
        "      model.predict(img.reshape(1,28,28,1)),\n",
        "      axis=1)\n",
        "  plt.title(\"The Prediction is \"+str(x_single_prediction))\n",
        "  plt.show()\n",
        "  print(\"\\n\")"
      ]
    }
  ],
  "metadata": {
    "accelerator": "GPU",
    "colab": {
      "collapsed_sections": [],
      "provenance": []
    },
    "gpuClass": "standard",
    "kernelspec": {
      "display_name": "Python 3",
      "name": "python3"
    },
    "language_info": {
      "name": "python"
    }
  },
  "nbformat": 4,
  "nbformat_minor": 0
}